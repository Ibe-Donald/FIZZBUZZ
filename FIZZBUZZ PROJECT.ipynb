{
 "cells": [
  {
   "cell_type": "markdown",
   "id": "c9f99042",
   "metadata": {},
   "source": [
    "# FIZZBUZZ"
   ]
  },
  {
   "cell_type": "code",
   "execution_count": null,
   "id": "4c2fd75d",
   "metadata": {},
   "outputs": [],
   "source": [
    "#A code that solves the FizzBuzz problem and uses the words \"GIT\" and \"HUB\" instead of \"Fizz\" and \"Buzz\".\n",
    "#It takes an input n and outputs the numbers from 1 to n.\n",
    "#For each multiple of 3, it prints \"GIT\", instead of the number\n",
    "#For each multiple of 5, it prints \"HUB\", instead of the number\n",
    "#For numbers which are multiples of both 3 and 5, outputs \"GITHUB\""
   ]
  },
  {
   "cell_type": "code",
   "execution_count": 4,
   "id": "fca90bae",
   "metadata": {},
   "outputs": [
    {
     "name": "stdout",
     "output_type": "stream",
     "text": [
      "Enter a number: 50\n",
      "50\n",
      "50\n",
      "GIT\n",
      "50\n",
      "HUB\n",
      "GIT\n",
      "50\n",
      "50\n",
      "GIT\n",
      "HUB\n",
      "50\n",
      "GIT\n",
      "50\n",
      "50\n",
      "GITHUB\n",
      "50\n",
      "50\n",
      "GIT\n",
      "50\n",
      "HUB\n",
      "GIT\n",
      "50\n",
      "50\n",
      "GIT\n",
      "HUB\n",
      "50\n",
      "GIT\n",
      "50\n",
      "50\n",
      "GITHUB\n",
      "50\n",
      "50\n",
      "GIT\n",
      "50\n",
      "HUB\n",
      "GIT\n",
      "50\n",
      "50\n",
      "GIT\n",
      "HUB\n",
      "50\n",
      "GIT\n",
      "50\n",
      "50\n",
      "GITHUB\n",
      "50\n",
      "50\n",
      "GIT\n",
      "50\n"
     ]
    }
   ],
   "source": [
    "n = int(input(\"Enter a number: \"))\n",
    "num = list(range(1,n))\n",
    "for i in num:\n",
    "    #with the for loop, we iterate through the range \n",
    "    if (i%3 == 0 and i%5 == 0):\n",
    "        print(\"GITHUB\")\n",
    "    elif (i%3 == 0):\n",
    "        print(\"GIT\")\n",
    "    elif (i%5 == 0):\n",
    "        print(\"HUB\")\n",
    "    else:\n",
    "        print(n)"
   ]
  },
  {
   "cell_type": "code",
   "execution_count": null,
   "id": "2ceb695d",
   "metadata": {},
   "outputs": [],
   "source": []
  },
  {
   "cell_type": "code",
   "execution_count": null,
   "id": "30c300d0",
   "metadata": {},
   "outputs": [],
   "source": []
  }
 ],
 "metadata": {
  "kernelspec": {
   "display_name": "Python 3",
   "language": "python",
   "name": "python3"
  },
  "language_info": {
   "codemirror_mode": {
    "name": "ipython",
    "version": 3
   },
   "file_extension": ".py",
   "mimetype": "text/x-python",
   "name": "python",
   "nbconvert_exporter": "python",
   "pygments_lexer": "ipython3",
   "version": "3.8.8"
  }
 },
 "nbformat": 4,
 "nbformat_minor": 5
}
